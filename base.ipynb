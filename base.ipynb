{
  "nbformat": 4,
  "nbformat_minor": 0,
  "metadata": {
    "colab": {
      "name": "base.ipynb",
      "provenance": [],
      "toc_visible": true
    },
    "kernelspec": {
      "name": "python3",
      "display_name": "Python 3"
    },
    "language_info": {
      "name": "python"
    }
  },
  "cells": [
    {
      "cell_type": "markdown",
      "source": [
        "### Dependencies"
      ],
      "metadata": {
        "id": "YI8hz3nRxjec"
      }
    },
    {
      "cell_type": "code",
      "source": [
        "!pip install pygithub"
      ],
      "metadata": {
        "colab": {
          "base_uri": "https://localhost:8080/"
        },
        "id": "FaAwtGOlzu_E",
        "outputId": "1d2f985b-f26d-42c0-fc82-fd488f7c375f"
      },
      "execution_count": 1,
      "outputs": [
        {
          "output_type": "stream",
          "name": "stdout",
          "text": [
            "Collecting pygithub\n",
            "  Downloading PyGithub-1.55-py3-none-any.whl (291 kB)\n",
            "\u001b[K     |████████████████████████████████| 291 kB 5.1 MB/s \n",
            "\u001b[?25hCollecting pyjwt>=2.0\n",
            "  Downloading PyJWT-2.3.0-py3-none-any.whl (16 kB)\n",
            "Collecting deprecated\n",
            "  Downloading Deprecated-1.2.13-py2.py3-none-any.whl (9.6 kB)\n",
            "Requirement already satisfied: requests>=2.14.0 in /usr/local/lib/python3.7/dist-packages (from pygithub) (2.23.0)\n",
            "Collecting pynacl>=1.4.0\n",
            "  Downloading PyNaCl-1.4.0-cp35-abi3-manylinux1_x86_64.whl (961 kB)\n",
            "\u001b[K     |████████████████████████████████| 961 kB 55.8 MB/s \n",
            "\u001b[?25hRequirement already satisfied: six in /usr/local/lib/python3.7/dist-packages (from pynacl>=1.4.0->pygithub) (1.15.0)\n",
            "Requirement already satisfied: cffi>=1.4.1 in /usr/local/lib/python3.7/dist-packages (from pynacl>=1.4.0->pygithub) (1.15.0)\n",
            "Requirement already satisfied: pycparser in /usr/local/lib/python3.7/dist-packages (from cffi>=1.4.1->pynacl>=1.4.0->pygithub) (2.21)\n",
            "Requirement already satisfied: idna<3,>=2.5 in /usr/local/lib/python3.7/dist-packages (from requests>=2.14.0->pygithub) (2.10)\n",
            "Requirement already satisfied: chardet<4,>=3.0.2 in /usr/local/lib/python3.7/dist-packages (from requests>=2.14.0->pygithub) (3.0.4)\n",
            "Requirement already satisfied: certifi>=2017.4.17 in /usr/local/lib/python3.7/dist-packages (from requests>=2.14.0->pygithub) (2021.10.8)\n",
            "Requirement already satisfied: urllib3!=1.25.0,!=1.25.1,<1.26,>=1.21.1 in /usr/local/lib/python3.7/dist-packages (from requests>=2.14.0->pygithub) (1.24.3)\n",
            "Requirement already satisfied: wrapt<2,>=1.10 in /usr/local/lib/python3.7/dist-packages (from deprecated->pygithub) (1.13.3)\n",
            "Installing collected packages: pynacl, pyjwt, deprecated, pygithub\n",
            "Successfully installed deprecated-1.2.13 pygithub-1.55 pyjwt-2.3.0 pynacl-1.4.0\n"
          ]
        }
      ]
    },
    {
      "cell_type": "code",
      "execution_count": 107,
      "metadata": {
        "id": "0_L6gamwxa6Q"
      },
      "outputs": [],
      "source": [
        "from github import Github\n",
        "import requests\n",
        "import pandas as pd"
      ]
    },
    {
      "cell_type": "code",
      "source": [
        "def get_user_by_location(list, locate):\n",
        "  users = client.search_users(str('machine learning')+(f'location:{locate}') )\n",
        "  for user in users:\n",
        "    u = str(user)\n",
        "    u = u.strip('NamedUser(login=)')\n",
        "    u = u.strip('\"\"')\n",
        "    list.append(u)"
      ],
      "metadata": {
        "id": "G5Ur1czadZHa"
      },
      "execution_count": 130,
      "outputs": []
    },
    {
      "cell_type": "code",
      "source": [
        "rwanda = []\n",
        "lagos = []\n",
        "get_user_by_location(rwanda, 'Rwanda')\n",
        "get_user_by_location(lagos, 'Lagos')"
      ],
      "metadata": {
        "id": "bskB_fF2gwRG"
      },
      "execution_count": 131,
      "outputs": []
    },
    {
      "cell_type": "code",
      "source": [
        "req = requests.get(f'https://api.github.com/users/{lagos[9]}')"
      ],
      "metadata": {
        "id": "NzB4UDv0hACx"
      },
      "execution_count": 135,
      "outputs": []
    },
    {
      "cell_type": "code",
      "source": [
        "pd.DataFrame(req.json(), index=range(1))"
      ],
      "metadata": {
        "colab": {
          "base_uri": "https://localhost:8080/",
          "height": 197
        },
        "id": "dXmPKvVClAVZ",
        "outputId": "7027d2bc-9fb3-487e-dbef-6fa20586d7f2"
      },
      "execution_count": 144,
      "outputs": [
        {
          "output_type": "execute_result",
          "data": {
            "text/html": [
              "\n",
              "  <div id=\"df-727f3831-51fe-47ce-88d4-5ee3f21c8f89\">\n",
              "    <div class=\"colab-df-container\">\n",
              "      <div>\n",
              "<style scoped>\n",
              "    .dataframe tbody tr th:only-of-type {\n",
              "        vertical-align: middle;\n",
              "    }\n",
              "\n",
              "    .dataframe tbody tr th {\n",
              "        vertical-align: top;\n",
              "    }\n",
              "\n",
              "    .dataframe thead th {\n",
              "        text-align: right;\n",
              "    }\n",
              "</style>\n",
              "<table border=\"1\" class=\"dataframe\">\n",
              "  <thead>\n",
              "    <tr style=\"text-align: right;\">\n",
              "      <th></th>\n",
              "      <th>login</th>\n",
              "      <th>id</th>\n",
              "      <th>node_id</th>\n",
              "      <th>avatar_url</th>\n",
              "      <th>gravatar_id</th>\n",
              "      <th>url</th>\n",
              "      <th>html_url</th>\n",
              "      <th>followers_url</th>\n",
              "      <th>following_url</th>\n",
              "      <th>gists_url</th>\n",
              "      <th>starred_url</th>\n",
              "      <th>subscriptions_url</th>\n",
              "      <th>organizations_url</th>\n",
              "      <th>repos_url</th>\n",
              "      <th>events_url</th>\n",
              "      <th>received_events_url</th>\n",
              "      <th>type</th>\n",
              "      <th>site_admin</th>\n",
              "      <th>name</th>\n",
              "      <th>company</th>\n",
              "      <th>blog</th>\n",
              "      <th>location</th>\n",
              "      <th>email</th>\n",
              "      <th>hireable</th>\n",
              "      <th>bio</th>\n",
              "      <th>twitter_username</th>\n",
              "      <th>public_repos</th>\n",
              "      <th>public_gists</th>\n",
              "      <th>followers</th>\n",
              "      <th>following</th>\n",
              "      <th>created_at</th>\n",
              "      <th>updated_at</th>\n",
              "    </tr>\n",
              "  </thead>\n",
              "  <tbody>\n",
              "    <tr>\n",
              "      <th>0</th>\n",
              "      <td>ProsperChuks</td>\n",
              "      <td>28939122</td>\n",
              "      <td>MDQ6VXNlcjI4OTM5MTIy</td>\n",
              "      <td>https://avatars.githubusercontent.com/u/289391...</td>\n",
              "      <td></td>\n",
              "      <td>https://api.github.com/users/ProsperChuks</td>\n",
              "      <td>https://github.com/ProsperChuks</td>\n",
              "      <td>https://api.github.com/users/ProsperChuks/foll...</td>\n",
              "      <td>https://api.github.com/users/ProsperChuks/foll...</td>\n",
              "      <td>https://api.github.com/users/ProsperChuks/gist...</td>\n",
              "      <td>https://api.github.com/users/ProsperChuks/star...</td>\n",
              "      <td>https://api.github.com/users/ProsperChuks/subs...</td>\n",
              "      <td>https://api.github.com/users/ProsperChuks/orgs</td>\n",
              "      <td>https://api.github.com/users/ProsperChuks/repos</td>\n",
              "      <td>https://api.github.com/users/ProsperChuks/even...</td>\n",
              "      <td>https://api.github.com/users/ProsperChuks/rece...</td>\n",
              "      <td>User</td>\n",
              "      <td>False</td>\n",
              "      <td>Prosper Chuks</td>\n",
              "      <td>HDSC FELLOW HAMOYE</td>\n",
              "      <td>https://www.linkedin.com/in/prosper-chuks/</td>\n",
              "      <td>Lagos, Nigeria</td>\n",
              "      <td>None</td>\n",
              "      <td>True</td>\n",
              "      <td>Software Engineer/Data Scientist/Machine Learn...</td>\n",
              "      <td>oniicyborg</td>\n",
              "      <td>47</td>\n",
              "      <td>0</td>\n",
              "      <td>13</td>\n",
              "      <td>13</td>\n",
              "      <td>2017-05-25T00:19:11Z</td>\n",
              "      <td>2022-01-05T09:01:32Z</td>\n",
              "    </tr>\n",
              "  </tbody>\n",
              "</table>\n",
              "</div>\n",
              "      <button class=\"colab-df-convert\" onclick=\"convertToInteractive('df-727f3831-51fe-47ce-88d4-5ee3f21c8f89')\"\n",
              "              title=\"Convert this dataframe to an interactive table.\"\n",
              "              style=\"display:none;\">\n",
              "        \n",
              "  <svg xmlns=\"http://www.w3.org/2000/svg\" height=\"24px\"viewBox=\"0 0 24 24\"\n",
              "       width=\"24px\">\n",
              "    <path d=\"M0 0h24v24H0V0z\" fill=\"none\"/>\n",
              "    <path d=\"M18.56 5.44l.94 2.06.94-2.06 2.06-.94-2.06-.94-.94-2.06-.94 2.06-2.06.94zm-11 1L8.5 8.5l.94-2.06 2.06-.94-2.06-.94L8.5 2.5l-.94 2.06-2.06.94zm10 10l.94 2.06.94-2.06 2.06-.94-2.06-.94-.94-2.06-.94 2.06-2.06.94z\"/><path d=\"M17.41 7.96l-1.37-1.37c-.4-.4-.92-.59-1.43-.59-.52 0-1.04.2-1.43.59L10.3 9.45l-7.72 7.72c-.78.78-.78 2.05 0 2.83L4 21.41c.39.39.9.59 1.41.59.51 0 1.02-.2 1.41-.59l7.78-7.78 2.81-2.81c.8-.78.8-2.07 0-2.86zM5.41 20L4 18.59l7.72-7.72 1.47 1.35L5.41 20z\"/>\n",
              "  </svg>\n",
              "      </button>\n",
              "      \n",
              "  <style>\n",
              "    .colab-df-container {\n",
              "      display:flex;\n",
              "      flex-wrap:wrap;\n",
              "      gap: 12px;\n",
              "    }\n",
              "\n",
              "    .colab-df-convert {\n",
              "      background-color: #E8F0FE;\n",
              "      border: none;\n",
              "      border-radius: 50%;\n",
              "      cursor: pointer;\n",
              "      display: none;\n",
              "      fill: #1967D2;\n",
              "      height: 32px;\n",
              "      padding: 0 0 0 0;\n",
              "      width: 32px;\n",
              "    }\n",
              "\n",
              "    .colab-df-convert:hover {\n",
              "      background-color: #E2EBFA;\n",
              "      box-shadow: 0px 1px 2px rgba(60, 64, 67, 0.3), 0px 1px 3px 1px rgba(60, 64, 67, 0.15);\n",
              "      fill: #174EA6;\n",
              "    }\n",
              "\n",
              "    [theme=dark] .colab-df-convert {\n",
              "      background-color: #3B4455;\n",
              "      fill: #D2E3FC;\n",
              "    }\n",
              "\n",
              "    [theme=dark] .colab-df-convert:hover {\n",
              "      background-color: #434B5C;\n",
              "      box-shadow: 0px 1px 3px 1px rgba(0, 0, 0, 0.15);\n",
              "      filter: drop-shadow(0px 1px 2px rgba(0, 0, 0, 0.3));\n",
              "      fill: #FFFFFF;\n",
              "    }\n",
              "  </style>\n",
              "\n",
              "      <script>\n",
              "        const buttonEl =\n",
              "          document.querySelector('#df-727f3831-51fe-47ce-88d4-5ee3f21c8f89 button.colab-df-convert');\n",
              "        buttonEl.style.display =\n",
              "          google.colab.kernel.accessAllowed ? 'block' : 'none';\n",
              "\n",
              "        async function convertToInteractive(key) {\n",
              "          const element = document.querySelector('#df-727f3831-51fe-47ce-88d4-5ee3f21c8f89');\n",
              "          const dataTable =\n",
              "            await google.colab.kernel.invokeFunction('convertToInteractive',\n",
              "                                                     [key], {});\n",
              "          if (!dataTable) return;\n",
              "\n",
              "          const docLinkHtml = 'Like what you see? Visit the ' +\n",
              "            '<a target=\"_blank\" href=https://colab.research.google.com/notebooks/data_table.ipynb>data table notebook</a>'\n",
              "            + ' to learn more about interactive tables.';\n",
              "          element.innerHTML = '';\n",
              "          dataTable['output_type'] = 'display_data';\n",
              "          await google.colab.output.renderOutput(dataTable, element);\n",
              "          const docLink = document.createElement('div');\n",
              "          docLink.innerHTML = docLinkHtml;\n",
              "          element.appendChild(docLink);\n",
              "        }\n",
              "      </script>\n",
              "    </div>\n",
              "  </div>\n",
              "  "
            ],
            "text/plain": [
              "          login        id  ...            created_at            updated_at\n",
              "0  ProsperChuks  28939122  ...  2017-05-25T00:19:11Z  2022-01-05T09:01:32Z\n",
              "\n",
              "[1 rows x 32 columns]"
            ]
          },
          "metadata": {},
          "execution_count": 144
        }
      ]
    },
    {
      "cell_type": "code",
      "source": [
        "req.json()"
      ],
      "metadata": {
        "colab": {
          "base_uri": "https://localhost:8080/"
        },
        "id": "kYBaSDHgrhUi",
        "outputId": "423f6a61-96e8-4b8d-ee3c-60d454178c66"
      },
      "execution_count": 141,
      "outputs": [
        {
          "output_type": "execute_result",
          "data": {
            "text/plain": [
              "{'avatar_url': 'https://avatars.githubusercontent.com/u/28939122?v=4',\n",
              " 'bio': 'Software Engineer/Data Scientist/Machine Learning Engineer',\n",
              " 'blog': 'https://www.linkedin.com/in/prosper-chuks/',\n",
              " 'company': 'HDSC FELLOW HAMOYE',\n",
              " 'created_at': '2017-05-25T00:19:11Z',\n",
              " 'email': None,\n",
              " 'events_url': 'https://api.github.com/users/ProsperChuks/events{/privacy}',\n",
              " 'followers': 13,\n",
              " 'followers_url': 'https://api.github.com/users/ProsperChuks/followers',\n",
              " 'following': 13,\n",
              " 'following_url': 'https://api.github.com/users/ProsperChuks/following{/other_user}',\n",
              " 'gists_url': 'https://api.github.com/users/ProsperChuks/gists{/gist_id}',\n",
              " 'gravatar_id': '',\n",
              " 'hireable': True,\n",
              " 'html_url': 'https://github.com/ProsperChuks',\n",
              " 'id': 28939122,\n",
              " 'location': 'Lagos, Nigeria',\n",
              " 'login': 'ProsperChuks',\n",
              " 'name': 'Prosper Chuks',\n",
              " 'node_id': 'MDQ6VXNlcjI4OTM5MTIy',\n",
              " 'organizations_url': 'https://api.github.com/users/ProsperChuks/orgs',\n",
              " 'public_gists': 0,\n",
              " 'public_repos': 47,\n",
              " 'received_events_url': 'https://api.github.com/users/ProsperChuks/received_events',\n",
              " 'repos_url': 'https://api.github.com/users/ProsperChuks/repos',\n",
              " 'site_admin': False,\n",
              " 'starred_url': 'https://api.github.com/users/ProsperChuks/starred{/owner}{/repo}',\n",
              " 'subscriptions_url': 'https://api.github.com/users/ProsperChuks/subscriptions',\n",
              " 'twitter_username': 'oniicyborg',\n",
              " 'type': 'User',\n",
              " 'updated_at': '2022-01-05T09:01:32Z',\n",
              " 'url': 'https://api.github.com/users/ProsperChuks'}"
            ]
          },
          "metadata": {},
          "execution_count": 141
        }
      ]
    }
  ]
}